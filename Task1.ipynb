{
 "cells": [
  {
   "cell_type": "code",
   "execution_count": null,
   "id": "e3973e06-9ce8-402b-8049-664c2f1eea27",
   "metadata": {},
   "outputs": [],
   "source": [
    "TASK 1 : BASIC PYTHON SYNTAX UNDERSTANDING\n",
    "\n",
    "Author : Ritesh Panhale\n",
    "\n",
    "Batch : 25 july 2024\n",
    "\n",
    "Domain : Python Developer\n"
   ]
  },
  {
   "cell_type": "code",
   "execution_count": null,
   "id": "b49beef3-913c-4304-8cc8-af255982ad24",
   "metadata": {},
   "outputs": [],
   "source": [
    "Script 1: Basic Arithmetic Operations"
   ]
  },
  {
   "cell_type": "code",
   "execution_count": 1,
   "id": "b15ba11c-34ec-45ed-89e0-0318f5453bfd",
   "metadata": {},
   "outputs": [
    {
     "name": "stdout",
     "output_type": "stream",
     "text": [
      "Sum: 15\n",
      "Difference: 5\n",
      "Product: 50\n",
      "Quotient: 2.0\n",
      "Remainder: 0\n"
     ]
    }
   ],
   "source": [
    "# Addition\n",
    "a = 10\n",
    "b = 5\n",
    "sum_result = a + b\n",
    "print(\"Sum:\", sum_result)\n",
    "\n",
    "# Subtraction\n",
    "difference = a - b\n",
    "print(\"Difference:\", difference)\n",
    "\n",
    "# Multiplication\n",
    "product = a * b\n",
    "print(\"Product:\", product)\n",
    "\n",
    "# Division\n",
    "quotient = a / b\n",
    "print(\"Quotient:\", quotient)\n",
    "\n",
    "# Modulus\n",
    "remainder = a % b\n",
    "print(\"Remainder:\", remainder)\n"
   ]
  },
  {
   "cell_type": "code",
   "execution_count": null,
   "id": "8af7eeb1-02fd-4b91-aa21-68d5bca0235a",
   "metadata": {},
   "outputs": [],
   "source": [
    "Script 2: Using Math Module"
   ]
  },
  {
   "cell_type": "code",
   "execution_count": 2,
   "id": "3a543fa7-45bb-485f-97e1-f056d5b13072",
   "metadata": {},
   "outputs": [
    {
     "name": "stdout",
     "output_type": "stream",
     "text": [
      "Square root: 4.0\n",
      "Power: 8.0\n"
     ]
    }
   ],
   "source": [
    "import math\n",
    "\n",
    "# Square root\n",
    "num = 16\n",
    "sqrt_result = math.sqrt(num)\n",
    "print(\"Square root:\", sqrt_result)\n",
    "\n",
    "# Power\n",
    "base = 2\n",
    "exponent = 3\n",
    "power_result = math.pow(base, exponent)\n",
    "print(\"Power:\", power_result)\n"
   ]
  },
  {
   "cell_type": "code",
   "execution_count": null,
   "id": "6d794495-7927-40be-bc29-e0e87d543cd1",
   "metadata": {},
   "outputs": [],
   "source": [
    "Script 3: Basic String Operations"
   ]
  },
  {
   "cell_type": "code",
   "execution_count": 3,
   "id": "d88e9989-952e-4346-b380-edf07c796e3e",
   "metadata": {},
   "outputs": [
    {
     "name": "stdout",
     "output_type": "stream",
     "text": [
      "Concatenated String: Hello World\n",
      "Substring: Hello\n",
      "Upper Case: HELLO WORLD\n",
      "Lower Case: hello world\n",
      "Replaced String: Hello Python\n",
      "Position of 'World': 6\n"
     ]
    }
   ],
   "source": [
    "# Concatenation\n",
    "str1 = \"Hello\"\n",
    "str2 = \"World\"\n",
    "concatenated = str1 + \" \" + str2\n",
    "print(\"Concatenated String:\", concatenated)\n",
    "\n",
    "# String Slicing\n",
    "substring = concatenated[0:5]\n",
    "print(\"Substring:\", substring)\n",
    "\n",
    "# Upper and Lower Case\n",
    "upper_case = concatenated.upper()\n",
    "print(\"Upper Case:\", upper_case)\n",
    "\n",
    "lower_case = concatenated.lower()\n",
    "print(\"Lower Case:\", lower_case)\n",
    "\n",
    "# Replace\n",
    "replaced_str = concatenated.replace(\"World\", \"Python\")\n",
    "print(\"Replaced String:\", replaced_str)\n",
    "\n",
    "# Find\n",
    "position = concatenated.find(\"World\")\n",
    "print(\"Position of 'World':\", position)\n"
   ]
  },
  {
   "cell_type": "code",
   "execution_count": null,
   "id": "93ec3174-a7e1-4ca3-97d8-d7b132e78a1c",
   "metadata": {},
   "outputs": [],
   "source": [
    "Script 4: Using Conditional Statements"
   ]
  },
  {
   "cell_type": "code",
   "execution_count": 4,
   "id": "abe25432-b5e9-49f2-b0df-24f18104ef8d",
   "metadata": {},
   "outputs": [
    {
     "name": "stdout",
     "output_type": "stream",
     "text": [
      "The number is positive.\n",
      "The string is a palindrome.\n"
     ]
    }
   ],
   "source": [
    "# Check if a number is positive, negative, or zero\n",
    "num = 7\n",
    "\n",
    "if num > 0:\n",
    "    print(\"The number is positive.\")\n",
    "elif num < 0:\n",
    "    print(\"The number is negative.\")\n",
    "else:\n",
    "    print(\"The number is zero.\")\n",
    "\n",
    "# Check if a string is a palindrome\n",
    "string = \"madam\"\n",
    "reversed_string = string[::-1]\n",
    "\n",
    "if string == reversed_string:\n",
    "    print(\"The string is a palindrome.\")\n",
    "else:\n",
    "    print(\"The string is not a palindrome.\")\n"
   ]
  },
  {
   "cell_type": "code",
   "execution_count": null,
   "id": "0a3af838-a17d-4497-89ce-5865b9f59eba",
   "metadata": {},
   "outputs": [],
   "source": [
    "Gain Familiarity with Common Data Structures"
   ]
  },
  {
   "cell_type": "code",
   "execution_count": null,
   "id": "596157e9-bace-4a18-9baf-8a96e59556fa",
   "metadata": {},
   "outputs": [],
   "source": [
    "Script 5: List Operations"
   ]
  },
  {
   "cell_type": "code",
   "execution_count": 5,
   "id": "286d83ca-896f-43c4-bfa1-14701e64d747",
   "metadata": {},
   "outputs": [
    {
     "name": "stdout",
     "output_type": "stream",
     "text": [
      "First fruit: apple\n",
      "Modified List: ['apple', 'blueberry', 'cherry']\n",
      "List after adding an element: ['apple', 'blueberry', 'cherry', 'orange']\n",
      "List after removing an element: ['apple', 'blueberry', 'orange']\n",
      "Sorted List: ['apple', 'blueberry', 'orange']\n"
     ]
    }
   ],
   "source": [
    "# Creating and accessing list elements\n",
    "fruits = [\"apple\", \"banana\", \"cherry\"]\n",
    "print(\"First fruit:\", fruits[0])\n",
    "\n",
    "# Modifying list elements\n",
    "fruits[1] = \"blueberry\"\n",
    "print(\"Modified List:\", fruits)\n",
    "\n",
    "# Adding and removing elements\n",
    "fruits.append(\"orange\")\n",
    "print(\"List after adding an element:\", fruits)\n",
    "\n",
    "fruits.remove(\"cherry\")\n",
    "print(\"List after removing an element:\", fruits)\n",
    "\n",
    "# List methods\n",
    "fruits.sort()\n",
    "print(\"Sorted List:\", fruits)\n"
   ]
  },
  {
   "cell_type": "code",
   "execution_count": null,
   "id": "459f2c8d-73a6-4e0f-be7b-c983b78c4adf",
   "metadata": {},
   "outputs": [],
   "source": [
    "Script 6: Dictionary Operations"
   ]
  },
  {
   "cell_type": "code",
   "execution_count": 6,
   "id": "be16bc39-d6e1-45c9-9c18-d888062ec345",
   "metadata": {},
   "outputs": [
    {
     "name": "stdout",
     "output_type": "stream",
     "text": [
      "Name: Ritesh\n",
      "Modified Dictionary: {'name': 'Ritesh', 'age': 31, 'city': 'Pune'}\n",
      "Dictionary after adding a key-value pair: {'name': 'Ritesh', 'age': 31, 'city': 'Pune', 'profession': 'Engineer'}\n",
      "Dictionary after removing a key-value pair: {'name': 'Ritesh', 'age': 31, 'profession': 'Engineer'}\n",
      "Keys: dict_keys(['name', 'age', 'profession'])\n",
      "Values: dict_values(['Ritesh', 31, 'Engineer'])\n",
      "Items: dict_items([('name', 'Ritesh'), ('age', 31), ('profession', 'Engineer')])\n"
     ]
    }
   ],
   "source": [
    "# Creating and accessing dictionary elements\n",
    "person = {\"name\": \"Ritesh\", \"age\": 20, \"city\": \"Pune\"}\n",
    "print(\"Name:\", person[\"name\"])\n",
    "\n",
    "# Modifying dictionary elements\n",
    "person[\"age\"] = 31\n",
    "print(\"Modified Dictionary:\", person)\n",
    "\n",
    "# Adding and removing key-value pairs\n",
    "person[\"profession\"] = \"Engineer\"\n",
    "print(\"Dictionary after adding a key-value pair:\", person)\n",
    "\n",
    "del person[\"city\"]\n",
    "print(\"Dictionary after removing a key-value pair:\", person)\n",
    "\n",
    "# Dictionary methods\n",
    "keys = person.keys()\n",
    "print(\"Keys:\", keys)\n",
    "\n",
    "values = person.values()\n",
    "print(\"Values:\", values)\n",
    "\n",
    "items = person.items()\n",
    "print(\"Items:\", items)\n"
   ]
  },
  {
   "cell_type": "code",
   "execution_count": null,
   "id": "e0677454-e37a-436c-8b00-1869cc7d8aa6",
   "metadata": {},
   "outputs": [],
   "source": [
    "Script 7: Tuple Operations"
   ]
  },
  {
   "cell_type": "code",
   "execution_count": 7,
   "id": "329f1cc3-4e30-4ecb-8107-4e305d08c875",
   "metadata": {},
   "outputs": [
    {
     "name": "stdout",
     "output_type": "stream",
     "text": [
      "First color: red\n",
      "Count of 'red': 1\n",
      "Index of 'green': 1\n"
     ]
    }
   ],
   "source": [
    "# Creating and accessing tuple elements\n",
    "colors = (\"red\", \"green\", \"blue\")\n",
    "print(\"First color:\", colors[0])\n",
    "\n",
    "# Tuple methods\n",
    "count = colors.count(\"red\")\n",
    "print(\"Count of 'red':\", count)\n",
    "\n",
    "index = colors.index(\"green\")\n",
    "print(\"Index of 'green':\", index)\n"
   ]
  },
  {
   "cell_type": "code",
   "execution_count": null,
   "id": "ea920fed-3864-43da-afb4-232b150759ab",
   "metadata": {},
   "outputs": [],
   "source": []
  }
 ],
 "metadata": {
  "kernelspec": {
   "display_name": "Python 3 (ipykernel)",
   "language": "python",
   "name": "python3"
  },
  "language_info": {
   "codemirror_mode": {
    "name": "ipython",
    "version": 3
   },
   "file_extension": ".py",
   "mimetype": "text/x-python",
   "name": "python",
   "nbconvert_exporter": "python",
   "pygments_lexer": "ipython3",
   "version": "3.12.3"
  }
 },
 "nbformat": 4,
 "nbformat_minor": 5
}
